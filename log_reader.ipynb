{
 "cells": [
  {
   "cell_type": "code",
   "execution_count": 1,
   "metadata": {},
   "outputs": [],
   "source": [
    "import pandas as pd\n",
    "import numpy as np\n",
    "import matplotlib.pyplot as plt\n",
    "import re\n",
    "import seaborn as sns\n",
    "import os"
   ]
  },
  {
   "cell_type": "code",
   "execution_count": 11,
   "metadata": {},
   "outputs": [],
   "source": [
    "filepath = './model_logs'\n",
    "imgpath = './images'\n",
    "file_list = os.listdir(filepath)\n",
    "model_logs = {}\n",
    "for file in file_list:\n",
    "    with open(os.path.join(filepath, file)) as f:\n",
    "        logs = f.readlines()\n",
    "        model_name = next(filter(lambda x: 'Model: ' in x, logs))\n",
    "        model_logs[model_name.split('Model: ')[1].strip()] = logs"
   ]
  },
  {
   "cell_type": "code",
   "execution_count": 14,
   "metadata": {},
   "outputs": [],
   "source": [
    "models_metrics = []"
   ]
  },
  {
   "cell_type": "code",
   "execution_count": 22,
   "metadata": {},
   "outputs": [],
   "source": [
    "for model_name, logs in model_logs.items():\n",
    "    plt.figure()\n",
    "    loss_logs = filter(lambda x: 'Training average loss at step' in x, logs)\n",
    "    loss_logs = map(lambda x: x.split('Training average loss at step')[1].strip(), loss_logs)\n",
    "    loss_logs = map(lambda x: list(map(float, x.split(': '))), loss_logs)\n",
    "    loss_logs = map(lambda x: {'epoch': x[0], 'loss': x[1]}, loss_logs)\n",
    "    df = pd.DataFrame(list(loss_logs))\n",
    "    # fig = sns.lineplot(y='loss', x='epoch', data=df).get_figure()\n",
    "    # fig.savefig(os.path.join(imgpath, f'{model_name}_loss.png'))\n",
    "    plt.close()\n",
    "    \n",
    "    valid_logs = []\n",
    "    valid_logs_raw = filter(lambda x: 'Valid' in x and 'Eval' not in x, logs)\n",
    "    valid_logs_raw = map(lambda x: x.split('at step')[1].strip(), valid_logs_raw)\n",
    "    valid_logs_raw = list(valid_logs_raw)\n",
    "    for i in range(0, len(valid_logs_raw),5):\n",
    "        tmp = dict()\n",
    "        tmp['epoch'] = float(valid_logs_raw[i].split(': ')[0])\n",
    "        tmp['MR'] = float(valid_logs_raw[i].split(': ')[1])\n",
    "        tmp['MRR'] = float(valid_logs_raw[i+1].split(': ')[1])\n",
    "        tmp['HIT1'] = float(valid_logs_raw[i+2].split(': ')[1])\n",
    "        tmp['HIT3'] = float(valid_logs_raw[i+3].split(': ')[1])\n",
    "        tmp['HIT10'] = float(valid_logs_raw[i+4].split(': ')[1])\n",
    "        valid_logs.append(tmp)\n",
    "    \n",
    "    df = pd.DataFrame(valid_logs)\n",
    "    df.to_csv(os.path.join(imgpath, f'{model_name}_metrics.csv'), index=False)\n",
    "    # models_metrics.append((model_name, df.copy()))\n",
    "    # plt.figure()\n",
    "    # fig = sns.lineplot(y='MR', x='epoch', data=df).get_figure()\n",
    "    # fig.savefig(os.path.join(imgpath, f'{model_name}_MR.png'))\n",
    "    # plt.close()\n",
    "    # plt.figure()\n",
    "    # fig = sns.lineplot(y='MRR', x='epoch', data=df).get_figure()\n",
    "    # fig.savefig(os.path.join(imgpath, f'{model_name}_MRR.png'))\n",
    "    # plt.close()\n",
    "    # plt.figure()\n",
    "    # fig = sns.lineplot(y='HIT1', x='epoch', data=df).get_figure()\n",
    "    # fig.savefig(os.path.join(imgpath, f'{model_name}_HIT1.png'))\n",
    "    # plt.close()\n",
    "    # plt.figure()\n",
    "    # fig = sns.lineplot(y='HIT3', x='epoch', data=df).get_figure()\n",
    "    # fig.savefig(os.path.join(imgpath, f'{model_name}_HIT3.png'))\n",
    "    # plt.close()\n",
    "    # plt.figure()\n",
    "    # fig = sns.lineplot(y='HIT10', x='epoch', data=df).get_figure()\n",
    "    # fig.savefig(os.path.join(imgpath, f'{model_name}_HIT10.png'))\n",
    "    # plt.close()\n",
    "\n",
    "        "
   ]
  },
  {
   "cell_type": "code",
   "execution_count": 16,
   "metadata": {},
   "outputs": [
    {
     "data": {
      "text/plain": [
       "[('ComplEx',\n",
       "       epoch     MR        MRR   HIT1   HIT3  HIT10\n",
       "  0      0.0  0.000  20581.370  0.000  0.000  0.000\n",
       "  1  10000.0  0.306   5734.529  0.203  0.379  0.490\n",
       "  2  20000.0  0.300   5554.943  0.195  0.370  0.490\n",
       "  3  30000.0  0.294   5753.753  0.187  0.370  0.487\n",
       "  4  40000.0  0.298   5651.085  0.188  0.374  0.494\n",
       "  5  50000.0  0.296   5368.583  0.178  0.378  0.511\n",
       "  6  60000.0  0.295   5390.760  0.176  0.378  0.510\n",
       "  7  70000.0  0.297   5386.425  0.179  0.379  0.510\n",
       "  8  79999.0  0.296   5408.680  0.179  0.379  0.510),\n",
       " ('ComplExBert',\n",
       "       epoch     MR        MRR   HIT1   HIT3  HIT10\n",
       "  0      0.0  0.000  20624.945  0.000  0.000  0.000\n",
       "  1  10000.0  0.330   4698.495  0.222  0.406  0.515\n",
       "  2  20000.0  0.328   4428.093  0.217  0.404  0.521\n",
       "  3  30000.0  0.330   4489.965  0.222  0.407  0.517\n",
       "  4  40000.0  0.325   4461.183  0.214  0.401  0.520\n",
       "  5  50000.0  0.315   4416.280  0.200  0.396  0.520\n",
       "  6  60000.0  0.316   4426.020  0.200  0.398  0.520\n",
       "  7  70000.0  0.315   4432.130  0.200  0.398  0.521\n",
       "  8  79999.0  0.316   4441.951  0.200  0.398  0.519),\n",
       " ('DistMult',\n",
       "       epoch     MR        MRR   HIT1   HIT3  HIT10\n",
       "  0      0.0  0.000  20146.596  0.000  0.000  0.000\n",
       "  1  10000.0  0.304   4933.523  0.203  0.371  0.482\n",
       "  2  20000.0  0.301   4794.639  0.198  0.370  0.482\n",
       "  3  30000.0  0.301   4845.231  0.199  0.366  0.485\n",
       "  4  40000.0  0.303   4902.452  0.200  0.370  0.487\n",
       "  5  50000.0  0.284   4951.318  0.169  0.362  0.497\n",
       "  6  60000.0  0.286   4928.965  0.171  0.363  0.498\n",
       "  7  70000.0  0.284   4921.754  0.168  0.360  0.498\n",
       "  8  79999.0  0.285   4937.861  0.170  0.363  0.497),\n",
       " ('DistMultBert',\n",
       "       epoch     MR        MRR   HIT1   HIT3  HIT10\n",
       "  0      0.0  0.000  20361.363  0.000  0.000  0.000\n",
       "  1  10000.0  0.312   4006.493  0.205  0.386  0.502\n",
       "  2  20000.0  0.313   3947.043  0.205  0.383  0.500\n",
       "  3  30000.0  0.310   4079.993  0.199  0.385  0.504\n",
       "  4  40000.0  0.310   3998.509  0.201  0.384  0.504\n",
       "  5  50000.0  0.303   3979.967  0.188  0.385  0.509\n",
       "  6  60000.0  0.303   3986.259  0.188  0.383  0.508\n",
       "  7  70000.0  0.303   3988.080  0.187  0.383  0.509\n",
       "  8  79999.0  0.303   3966.593  0.188  0.384  0.510),\n",
       " ('RotatE',\n",
       "       epoch     MR        MRR   HIT1   HIT3  HIT10\n",
       "  0      0.0  0.000  20011.760  0.000  0.000  0.000\n",
       "  1  10000.0  0.306   6222.019  0.203  0.387  0.479\n",
       "  2  20000.0  0.322   4361.555  0.208  0.403  0.518\n",
       "  3  30000.0  0.323   3669.344  0.206  0.407  0.527\n",
       "  4  40000.0  0.323   3362.019  0.204  0.407  0.530\n",
       "  5  50000.0  0.321   3321.743  0.201  0.407  0.531\n",
       "  6  60000.0  0.321   3310.236  0.201  0.407  0.532\n",
       "  7  70000.0  0.320   3301.032  0.200  0.406  0.533\n",
       "  8  79999.0  0.321   3289.228  0.201  0.406  0.532),\n",
       " ('RotatEBert',\n",
       "       epoch     MR        MRR   HIT1   HIT3  HIT10\n",
       "  0      0.0  0.001  20407.565  0.000  0.001  0.001\n",
       "  1  10000.0  0.276   7913.561  0.180  0.353  0.437\n",
       "  2  20000.0  0.312   5741.469  0.204  0.396  0.495\n",
       "  3  30000.0  0.319   4633.018  0.207  0.402  0.515\n",
       "  4  40000.0  0.320   4037.522  0.204  0.403  0.523\n",
       "  5  50000.0  0.321   3977.972  0.204  0.403  0.523\n",
       "  6  60000.0  0.321   3938.620  0.204  0.403  0.524\n",
       "  7  70000.0  0.321   3903.829  0.204  0.403  0.525\n",
       "  8  79999.0  0.321   3868.958  0.204  0.403  0.526),\n",
       " ('TransE',\n",
       "       epoch     MR        MRR   HIT1   HIT3  HIT10\n",
       "  0      0.0  0.001  20392.337  0.001  0.001  0.001\n",
       "  1  10000.0  0.150   5712.884  0.003  0.241  0.459\n",
       "  2  20000.0  0.160   4068.059  0.004  0.255  0.473\n",
       "  3  30000.0  0.165   3629.247  0.006  0.263  0.481\n",
       "  4  40000.0  0.167   3450.060  0.006  0.264  0.487\n",
       "  5  50000.0  0.167   3425.137  0.006  0.266  0.489\n",
       "  6  60000.0  0.168   3416.655  0.006  0.266  0.490\n",
       "  7  70000.0  0.167   3408.410  0.006  0.267  0.492\n",
       "  8  79999.0  0.168   3403.958  0.007  0.267  0.492),\n",
       " ('TransEBert',\n",
       "       epoch     MR        MRR   HIT1   HIT3  HIT10\n",
       "  0      0.0  0.001  20621.253  0.001  0.001  0.001\n",
       "  1  10000.0  0.142   6330.493  0.002  0.221  0.450\n",
       "  2  20000.0  0.146   4217.774  0.007  0.216  0.443\n",
       "  3  30000.0  0.148   3613.968  0.010  0.217  0.435\n",
       "  4  40000.0  0.149   3374.999  0.013  0.217  0.434\n",
       "  5  50000.0  0.151   3341.496  0.014  0.221  0.435\n",
       "  6  60000.0  0.151   3323.395  0.014  0.221  0.436\n",
       "  7  70000.0  0.152   3310.673  0.013  0.221  0.436\n",
       "  8  79999.0  0.151   3298.614  0.013  0.221  0.436)]"
      ]
     },
     "execution_count": 16,
     "metadata": {},
     "output_type": "execute_result"
    }
   ],
   "source": [
    "models_metrics"
   ]
  },
  {
   "cell_type": "code",
   "execution_count": 7,
   "metadata": {},
   "outputs": [
    {
     "data": {
      "text/plain": [
       "48"
      ]
     },
     "execution_count": 7,
     "metadata": {},
     "output_type": "execute_result"
    }
   ],
   "source": [
    "len(os.listdir('./images'))"
   ]
  }
 ],
 "metadata": {
  "kernelspec": {
   "display_name": "base",
   "language": "python",
   "name": "python3"
  },
  "language_info": {
   "codemirror_mode": {
    "name": "ipython",
    "version": 3
   },
   "file_extension": ".py",
   "mimetype": "text/x-python",
   "name": "python",
   "nbconvert_exporter": "python",
   "pygments_lexer": "ipython3",
   "version": "3.11.4"
  },
  "orig_nbformat": 4
 },
 "nbformat": 4,
 "nbformat_minor": 2
}
